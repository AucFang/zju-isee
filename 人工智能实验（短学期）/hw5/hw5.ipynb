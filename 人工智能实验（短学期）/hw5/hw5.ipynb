{
 "cells": [
  {
   "cell_type": "markdown",
   "metadata": {},
   "source": [
    "张峪齐 3200105176"
   ]
  },
  {
   "cell_type": "markdown",
   "metadata": {},
   "source": [
    "### 第一题"
   ]
  },
  {
   "cell_type": "markdown",
   "metadata": {},
   "source": [
    "#### 题目\n",
    "\n",
    "利用PCA 进行面部识别"
   ]
  },
  {
   "cell_type": "markdown",
   "metadata": {},
   "source": [
    "第一步：从https://pan.zju.edu.cn/share/4f8a7baa9837d15018d462e9a4 下载数据。\n",
    "\n",
    "第二步：加载数据\n",
    "\n",
    "第三步：降维\n",
    "\n",
    "第四步：建立分类模型\n",
    "\n",
    "第五步：性能度量（比较降维前后性能的差异）"
   ]
  },
  {
   "cell_type": "markdown",
   "metadata": {},
   "source": [
    "#### 解答"
   ]
  },
  {
   "cell_type": "markdown",
   "metadata": {},
   "source": [
    "##### 加载数据"
   ]
  },
  {
   "cell_type": "code",
   "execution_count": 6,
   "metadata": {},
   "outputs": [],
   "source": [
    "import cv2\n",
    "import numpy as np\n",
    "def loadData(path):\n",
    "    '''\n",
    "    该函数传入数据集文件夹路径，返回数据集\n",
    "    返回的数据集为一个numpy矩阵，其中每一行是一个图像的数据\n",
    "    '''\n",
    "    dataSet=np.array([])\n",
    "    dataset=[]\n",
    "    classVec=[]\n",
    "    for i in range(1,41):\n",
    "        path0=path+'/s'+str(i)\n",
    "        for j in range(1,11):\n",
    "            path_bmp=path0+'/'+str(j)+'.bmp'\n",
    "            #dataSet[(i-1)*10+j,:]=cv2.imread(path_bmp,0).reshape(1,-1)\n",
    "            dataset.append(cv2.imread(path_bmp,0).flatten())\n",
    "            dataSet=np.mat(np.array(dataset,dtype=\"uint8\"))\n",
    "            classVec.append(i)\n",
    "            #print(img.shape)  #所有图片的shape都是(112,92)        \n",
    "    #print(f\"dataSet.shape={dataSet.shape}\")\n",
    "    return dataSet,np.array(classVec)\n",
    "\n",
    "dataSet,classVec=loadData('./orl')"
   ]
  },
  {
   "cell_type": "markdown",
   "metadata": {},
   "source": [
    "##### 降维"
   ]
  },
  {
   "cell_type": "markdown",
   "metadata": {},
   "source": [
    "计算协方差矩阵的特征值将花费极长的时间（可能是在本例中协方差矩阵不满秩？）故改为使用奇异值分解\n",
    "\n",
    "\n",
    "设一个数据集有m个n维数据，表示为矩阵$X_{m \\times n}$\n",
    "\n",
    "该矩阵的SVD为：$X_{m \\times n} = U_{m \\times m} \\Sigma _{m \\times n} V_{n \\times n}^T$ (若考虑复数则为$V_{n \\times n}^H$)\n",
    "\n",
    "又：使用```np.cov(X,rowvar=0)```计算X的协方差矩阵，结果为$X^TX$\n",
    "\n",
    "则有$X_{n \\times m}^TX_{m \\times n}=V_{n \\times n} \\Sigma _{n \\times m}^T \\Sigma _{m \\times n} V_{n \\times n}^T$\n",
    "\n",
    "则可以发现，X的右奇异向量矩阵v就是X协方差矩阵的特征向量矩阵\n",
    "\n",
    "另外，奇异值矩阵$\\Sigma _{m \\times n}$中的奇异值序列自然是有序排列的,省去了排序\n",
    "\n",
    "由此我们可以将示例代码中做如下修改，将代码片段：\n",
    "\n",
    "```\n",
    "covMat = np.cov(meanRemoved, rowvar=0)#计算协方差矩阵\n",
    "eigVals,eigVects = np.linalg.eig(np.mat(covMat))                    \n",
    "eigValInd = np.argsort(eigVals) #sort, sort goes smallest to largest\n",
    "eigValInd = eigValInd[:-(topNfeat+1):-1] #cut off unwanted dimensions\n",
    "redEigVects = eigVects[:,eigValInd] #reorganize eig vects largest to smallest\n",
    "```\n",
    "\n",
    "改为：\n",
    "\n",
    "```\n",
    "u, s, vh = np.linalg.svd(dataMat)\n",
    "v=vh.T\n",
    "redEigVects = v[:,:topNfeat]\n",
    "\n",
    "```\n",
    "由于只有400个奇异值，因此可以想到topNfeat取400以内才是有意义的"
   ]
  },
  {
   "cell_type": "code",
   "execution_count": 7,
   "metadata": {},
   "outputs": [
    {
     "name": "stdout",
     "output_type": "stream",
     "text": [
      "所选特征值和占总特征值和之比0.8905796822623976\n"
     ]
    },
    {
     "data": {
      "text/plain": [
       "(matrix([[-1531.17604911,  1072.18126719, -1867.02575339, ...,\n",
       "            -29.8451226 ,   103.89477659,   -95.40523457],\n",
       "         [-2975.89645415,   759.88308519,   461.81166492, ...,\n",
       "             33.90952267,    70.44235595,   119.3806765 ],\n",
       "         [-2696.44921967,   380.51575337, -1004.96184044, ...,\n",
       "             12.01506814,   -40.74426834,   131.05164774],\n",
       "         ...,\n",
       "         [ -843.14794032,   949.73439324,  1541.14202448, ...,\n",
       "            -62.05280966,   123.22484457,   148.03585803],\n",
       "         [-1400.61765833,  1276.41046965,   806.91098888, ...,\n",
       "           -131.91627014,    45.13411479,    63.6797419 ],\n",
       "         [ -534.83465374,   476.89207046,  2058.98859097, ...,\n",
       "             -9.88220458,   204.38033356,     4.25254952]]),\n",
       " matrix([[ 50.37614075,  50.47239725,  51.36679253, ...,  43.40426149,\n",
       "           39.08335592,  32.51565371],\n",
       "         [ 67.80081274,  71.61023321,  76.02869058, ...,  18.81029243,\n",
       "           28.05415364,  18.01340539],\n",
       "         [ 45.56303531,  48.78145281,  49.71171724, ...,  34.19881602,\n",
       "           22.76279017,  28.8756073 ],\n",
       "         ...,\n",
       "         [114.90238516, 114.64426911, 116.34598063, ...,  35.80904326,\n",
       "           39.37454781,  39.77195234],\n",
       "         [119.12682325, 121.28301702, 121.59024055, ..., 104.65186007,\n",
       "          106.55261309, 106.75370366],\n",
       "         [127.24869403, 124.90127049, 124.06077942, ...,  38.15029717,\n",
       "           43.57659454,  49.54457848]]))"
      ]
     },
     "execution_count": 7,
     "metadata": {},
     "output_type": "execute_result"
    }
   ],
   "source": [
    "def pca(dataMat, topNfeat=9999999):\n",
    "    '''\n",
    "    参数：数据集矩阵，取主要特征的数量\n",
    "    返回：以主成分表示的数据集矩阵\n",
    "    '''\n",
    "    meanVals = np.mean(dataMat, axis=0)\n",
    "    meanRemoved = dataMat - meanVals #标准化\n",
    "    \n",
    "    u, s, vh = np.linalg.svd(meanRemoved)\n",
    "    v=vh.T\n",
    "    #print(s)\n",
    "    redEigVects = v[:,:topNfeat]\n",
    "    print(f\"所选特征值和占总特征值和之比{sum(s[:topNfeat]**2)/sum(s**2)}\")\n",
    "    #covMat = np.cov(meanRemoved, rowvar=0)#计算协方差矩阵, np.cov(X,rowvar=0) = (X^T)X\n",
    "    #eigVals,eigVects = np.linalg.eig(np.mat(covMat))                    \n",
    "    #print(eigVals.shape)\n",
    "    #print(eigVals)\n",
    "    #eigValInd = np.argsort(eigVals) #sort, sort goes smallest to largest\n",
    "    #eigValInd = eigValInd[:-(topNfeat+1):-1] #cut off unwanted dimensions\n",
    "    #redEigVects = eigVects[:,eigValInd] #reorganize eig vects largest to smallest\n",
    "    lowDDataMat = meanRemoved * redEigVects#transform data into new dimensions\n",
    "    reconMat = (lowDDataMat * redEigVects.T) + meanVals\n",
    "    return lowDDataMat, reconMat\n",
    "    \n",
    "pca(dataSet,100)\n",
    "\n",
    "#test=np.mat([[-2,-3,1],[2,3,-1]])\n",
    "#test_cov=np.cov(test,rowvar=0)\n",
    "#print(test)\n",
    "#print(\"\\n\")\n",
    "#print(test_cov)\n",
    "#print(\"\\n\")\n",
    "#print(np.linalg.svd(test))\n",
    "#print(\"\\n\")\n",
    "#print(np.linalg.eig(test_cov))"
   ]
  },
  {
   "cell_type": "markdown",
   "metadata": {},
   "source": [
    "##### 建立分类模型"
   ]
  },
  {
   "cell_type": "markdown",
   "metadata": {},
   "source": [
    "划分训练数据与测试数据"
   ]
  },
  {
   "cell_type": "code",
   "execution_count": 8,
   "metadata": {},
   "outputs": [],
   "source": [
    "from sklearn.model_selection import train_test_split\n",
    "X_train, X_test, y_train, y_test = train_test_split(dataSet, classVec, random_state=2023)\n"
   ]
  },
  {
   "cell_type": "markdown",
   "metadata": {},
   "source": [
    "使用sklearn训练KNN模型进行分类，并测试准确率"
   ]
  },
  {
   "cell_type": "code",
   "execution_count": 9,
   "metadata": {},
   "outputs": [],
   "source": [
    "from sklearn.neighbors import KNeighborsClassifier\n",
    "def knn_by_sklearn(X_train,y_train,X_test,y_test,k):\n",
    "    X_tr=np.array(X_train)\n",
    "    X_te=np.array(X_test)\n",
    "    neigh=KNeighborsClassifier(n_neighbors=k)\n",
    "    neigh.fit(X_tr,y_train)\n",
    "    y_predict=neigh.predict(X_te)\n",
    "    \n",
    "    #统计准确率\n",
    "    error=0\n",
    "    for i in range(0,len(y_predict)):\n",
    "        if y_predict[i]!=y_test[i]:\n",
    "            error=error+1\n",
    "            #print(f\"错误地将第 {y_test[i]} 人识别为第 {y_predict[i]} 人\")\n",
    "    accuracy=1-error/len(y_predict)\n",
    "    \n",
    "    return y_predict,accuracy"
   ]
  },
  {
   "cell_type": "markdown",
   "metadata": {},
   "source": [
    "##### 性能度量"
   ]
  },
  {
   "cell_type": "markdown",
   "metadata": {},
   "source": [
    "使用一半的数据作为训练数据，另一半作为测试数据。\n",
    "同时，只考虑一个最近邻居\n",
    "\n",
    "测试结果如下"
   ]
  },
  {
   "cell_type": "code",
   "execution_count": 10,
   "metadata": {},
   "outputs": [
    {
     "name": "stdout",
     "output_type": "stream",
     "text": [
      "\n",
      "选取前3重要的特征与1个最近邻\n",
      "所选特征值和占总特征值和之比0.37357228504485623\n",
      "识别准确率为:\n",
      "0.655\n",
      "\n",
      "选取前4重要的特征与1个最近邻\n",
      "所选特征值和占总特征值和之比0.4293617134783418\n",
      "识别准确率为:\n",
      "0.6950000000000001\n",
      "\n",
      "选取前5重要的特征与1个最近邻\n",
      "所选特征值和占总特征值和之比0.48046084033017455\n",
      "识别准确率为:\n",
      "0.765\n",
      "\n",
      "选取前10重要的特征与1个最近邻\n",
      "所选特征值和占总特征值和之比0.5995186153355092\n",
      "识别准确率为:\n",
      "0.86\n",
      "\n",
      "选取前20重要的特征与1个最近邻\n",
      "所选特征值和占总特征值和之比0.7001464675567803\n",
      "识别准确率为:\n",
      "0.88\n",
      "\n",
      "选取前30重要的特征与1个最近邻\n",
      "所选特征值和占总特征值和之比0.753280380217233\n",
      "识别准确率为:\n",
      "0.895\n",
      "\n",
      "选取前40重要的特征与1个最近邻\n",
      "所选特征值和占总特征值和之比0.7894503592571359\n",
      "识别准确率为:\n",
      "0.89\n",
      "\n",
      "选取前50重要的特征与1个最近邻\n",
      "所选特征值和占总特征值和之比0.8160502357792209\n",
      "识别准确率为:\n",
      "0.88\n",
      "\n",
      "选取前70重要的特征与1个最近邻\n",
      "所选特征值和占总特征值和之比0.8535664947576842\n",
      "识别准确率为:\n",
      "0.885\n",
      "\n",
      "选取前90重要的特征与1个最近邻\n",
      "所选特征值和占总特征值和之比0.8798769527705114\n",
      "识别准确率为:\n",
      "0.895\n",
      "\n",
      "选取前100重要的特征与1个最近邻\n",
      "所选特征值和占总特征值和之比0.8905796822623976\n",
      "识别准确率为:\n",
      "0.895\n"
     ]
    },
    {
     "data": {
      "text/plain": [
       "Text(0, 0.5, 'accuracy')"
      ]
     },
     "execution_count": 10,
     "metadata": {},
     "output_type": "execute_result"
    },
    {
     "data": {
      "image/png": "[encoded data removed]",
      "text/plain": [
       "<Figure size 640x480 with 1 Axes>"
      ]
     },
     "metadata": {},
     "output_type": "display_data"
    }
   ],
   "source": [
    "import matplotlib.pyplot as plt\n",
    "\n",
    "plt.figure()\n",
    "k_values=[3,4,5,10,20,30,40,50,70,90,100]\n",
    "accuracy_values=[]\n",
    "for k in k_values:\n",
    "    print(f\"\\n选取前{k}重要的特征与1个最近邻\")\n",
    "    dataSet,classVec=loadData('./orl')\n",
    "    lowDData, dataSet=pca(dataSet,k)\n",
    "    X_train, X_test, y_train, y_test = train_test_split(lowDData, classVec,test_size=0.5,random_state=2023)\n",
    "    y_predict,accuracy=knn_by_sklearn(X_train,y_train,X_test,y_test,1)\n",
    "    \n",
    "    print(\"识别准确率为:\")\n",
    "    print(accuracy)\n",
    "    accuracy_values.append(accuracy)\n",
    "plt.plot(k_values,accuracy_values)\n",
    "plt.xlabel(\"n-dimension\")\n",
    "plt.ylabel(\"accuracy\")\n",
    "\n"
   ]
  },
  {
   "cell_type": "markdown",
   "metadata": {},
   "source": [
    "### 第二题\n"
   ]
  },
  {
   "cell_type": "markdown",
   "metadata": {},
   "source": [
    "#### 题目"
   ]
  },
  {
   "cell_type": "markdown",
   "metadata": {},
   "source": [
    "利用SVM自然图片分类（实验手册练习Chars74K 数据集）"
   ]
  },
  {
   "cell_type": "markdown",
   "metadata": {},
   "source": [
    "### 解答"
   ]
  },
  {
   "cell_type": "markdown",
   "metadata": {},
   "source": [
    "##### 导入数据集"
   ]
  },
  {
   "cell_type": "code",
   "execution_count": 2,
   "metadata": {},
   "outputs": [
    {
     "name": "stdout",
     "output_type": "stream",
     "text": [
      "(7705, 900)\n",
      "[[157 156 157 ... 156 156 154]\n",
      " [161 154 136 ... 155 155 156]\n",
      " [ 58  57  57 ...  58  57  57]\n",
      " ...\n",
      " [115 113 113 ...  99  99 101]\n",
      " [133 133 134 ... 114 117 120]\n",
      " [ 60  61  61 ...  49  50  52]]\n"
     ]
    }
   ],
   "source": [
    "import os\n",
    "import numpy as np\n",
    "from sklearn.pipeline import Pipeline\n",
    "from sklearn.svm import SVC\n",
    "#from thundersvm import SVC\n",
    "from sklearn.model_selection import train_test_split\n",
    "from sklearn.model_selection import GridSearchCV\n",
    "from sklearn.metrics import classification_report\n",
    "from PIL import Image\n",
    "X = []\n",
    "y = []\n",
    "for path, subdirs, files in os.walk('./English/Img/GoodImg/Bmp/'):\n",
    "    for filename in files:\n",
    "        f = os.path.join(path, filename)\n",
    "        target = filename[3:filename.index('-')]\n",
    "        img = Image.open(f).convert('L').resize((30, 30), resample=Image.LANCZOS)\n",
    "        X.append(np.array(img).reshape(900,))\n",
    "        y.append(target)\n",
    "X = np.array(X)\n",
    "print(X.shape)\n",
    "print(X)"
   ]
  },
  {
   "cell_type": "markdown",
   "metadata": {},
   "source": [
    "##### 从零实现SVM在自然图片上的分类"
   ]
  },
  {
   "cell_type": "markdown",
   "metadata": {},
   "source": [
    "##### 使用sklearn实现分类识别"
   ]
  },
  {
   "cell_type": "code",
   "execution_count": 2,
   "metadata": {},
   "outputs": [
    {
     "name": "stdout",
     "output_type": "stream",
     "text": [
      "Fitting 5 folds for each of 30 candidates, totalling 150 fits\n",
      "Best score: 0.573\n",
      "Best parameters set:\n",
      "\tclf__C: 10\n",
      "\tclf__gamma: 0.01\n",
      "              precision    recall  f1-score   support\n",
      "\n",
      "         001       0.53      0.30      0.38        27\n",
      "         002       0.73      0.44      0.55        18\n",
      "         003       0.67      0.33      0.44        18\n",
      "         004       0.60      0.43      0.50         7\n",
      "         005       1.00      0.25      0.40        12\n",
      "         006       1.00      0.18      0.31        11\n",
      "         007       0.80      0.36      0.50        11\n",
      "         008       1.00      0.50      0.67         8\n",
      "         009       0.00      0.00      0.00         3\n",
      "         010       0.50      0.33      0.40         3\n",
      "         011       0.67      0.95      0.78       119\n",
      "         012       0.36      0.38      0.37        21\n",
      "         013       0.69      0.73      0.71        45\n",
      "         014       0.73      0.59      0.65        46\n",
      "         015       0.61      0.87      0.72        86\n",
      "         016       0.64      0.50      0.56        14\n",
      "         017       0.65      0.41      0.50        32\n",
      "         018       0.64      0.60      0.62        30\n",
      "         019       0.63      0.77      0.69        70\n",
      "         020       0.38      0.20      0.26        15\n",
      "         021       0.62      0.50      0.56        10\n",
      "         022       0.84      0.78      0.81        49\n",
      "         023       0.88      0.67      0.76        33\n",
      "         024       0.75      0.95      0.83        56\n",
      "         025       0.42      0.64      0.51        81\n",
      "         026       0.78      0.71      0.75        35\n",
      "         027       0.00      0.00      0.00         4\n",
      "         028       0.57      0.83      0.68        89\n",
      "         029       0.35      0.77      0.48        60\n",
      "         030       0.65      0.85      0.74        59\n",
      "         031       0.67      0.43      0.52        14\n",
      "         032       0.67      0.57      0.62        21\n",
      "         033       0.86      0.50      0.63        12\n",
      "         034       0.83      0.33      0.48        15\n",
      "         035       0.80      0.27      0.40        15\n",
      "         036       0.60      0.38      0.46         8\n",
      "         037       0.72      0.64      0.68        36\n",
      "         038       1.00      0.40      0.57         5\n",
      "         039       0.40      0.14      0.21        14\n",
      "         040       0.80      0.33      0.47        12\n",
      "         041       0.79      0.68      0.73        50\n",
      "         042       0.00      0.00      0.00         6\n",
      "         043       0.00      0.00      0.00         4\n",
      "         044       1.00      0.44      0.61        16\n",
      "         045       0.67      0.52      0.58        27\n",
      "         046       1.00      0.17      0.29         6\n",
      "         047       0.00      0.00      0.00         8\n",
      "         048       0.75      0.50      0.60         6\n",
      "         049       0.50      0.20      0.29         5\n",
      "         050       0.68      0.60      0.64        25\n",
      "         051       0.29      0.17      0.21        42\n",
      "         052       0.00      0.00      0.00        10\n",
      "         053       0.00      0.00      0.00         9\n",
      "         054       0.77      0.77      0.77        26\n",
      "         055       0.46      0.29      0.35        21\n",
      "         056       0.86      0.67      0.75        27\n",
      "         057       0.50      0.50      0.50         4\n",
      "         058       1.00      0.17      0.29         6\n",
      "         059       0.00      0.00      0.00         3\n",
      "         060       0.00      0.00      0.00         4\n",
      "         061       1.00      0.17      0.29         6\n",
      "         062       1.00      0.33      0.50         6\n",
      "\n",
      "    accuracy                           0.62      1541\n",
      "   macro avg       0.60      0.42      0.46      1541\n",
      "weighted avg       0.63      0.62      0.60      1541\n",
      "\n"
     ]
    },
    {
     "name": "stderr",
     "output_type": "stream",
     "text": [
      "D:\\miniConda\\envs\\d2l\\Lib\\site-packages\\sklearn\\metrics\\_classification.py:1469: UndefinedMetricWarning: Precision and F-score are ill-defined and being set to 0.0 in labels with no predicted samples. Use `zero_division` parameter to control this behavior.\n",
      "  _warn_prf(average, modifier, msg_start, len(result))\n",
      "D:\\miniConda\\envs\\d2l\\Lib\\site-packages\\sklearn\\metrics\\_classification.py:1469: UndefinedMetricWarning: Precision and F-score are ill-defined and being set to 0.0 in labels with no predicted samples. Use `zero_division` parameter to control this behavior.\n",
      "  _warn_prf(average, modifier, msg_start, len(result))\n",
      "D:\\miniConda\\envs\\d2l\\Lib\\site-packages\\sklearn\\metrics\\_classification.py:1469: UndefinedMetricWarning: Precision and F-score are ill-defined and being set to 0.0 in labels with no predicted samples. Use `zero_division` parameter to control this behavior.\n",
      "  _warn_prf(average, modifier, msg_start, len(result))\n"
     ]
    }
   ],
   "source": [
    "X = X/255.0*2 - 1\n",
    "X_train, X_test, y_train, y_test = train_test_split(X, y, test_size = 0.2, random_state=11)\n",
    "\n",
    "pipeline = Pipeline([('clf', SVC(kernel='rbf', gamma=0.01, C=100))])\n",
    "parameters = {\n",
    "    'clf__gamma': (0.01, 0.03, 0.1, 0.3, 1),\n",
    "    'clf__C': (0.1, 0.3, 1, 3, 10, 30),\n",
    "}\n",
    "\n",
    "grid_search = GridSearchCV(pipeline, parameters, n_jobs=2, verbose=1, scoring='accuracy')\n",
    "grid_search.fit(X_train[:5000], y_train[:5000])\n",
    "print('Best score: %0.3f' % grid_search.best_score_)\n",
    "print('Best parameters set:')\n",
    "\n",
    "best_parameters = grid_search.best_estimator_.get_params()\n",
    "for param_name in sorted(parameters.keys()):\n",
    "    print('\\t%s: %r' % (param_name, best_parameters[param_name]))\n",
    "\n",
    "predictions = grid_search.predict(X_test)\n",
    "print(classification_report(y_test, predictions))"
   ]
  },
  {
   "cell_type": "markdown",
   "metadata": {},
   "source": [
    "##### 使用tSNE可视化数据的分布"
   ]
  },
  {
   "cell_type": "code",
   "execution_count": 3,
   "metadata": {},
   "outputs": [
    {
     "name": "stdout",
     "output_type": "stream",
     "text": [
      "tSNE降维耗时：1.6e+02 sec\n"
     ]
    }
   ],
   "source": [
    "from matplotlib import pyplot as plt\n",
    "from time import time\n",
    "from sklearn.manifold import TSNE\n",
    "\n",
    "\n",
    "t_start=time()\n",
    "tsne = TSNE(n_components=2,perplexity=40.0,early_exaggeration=20.0,learning_rate=10,init=\"pca\",n_iter=3000)\n",
    "result=tsne.fit_transform(X)\n",
    "t_end=time()\n",
    "print(f\"tSNE降维耗时：%.2g sec\" %(t_end-t_start))\n",
    "\n",
    "# y=[int(item) for item in y]\n"
   ]
  },
  {
   "cell_type": "code",
   "execution_count": 4,
   "metadata": {},
   "outputs": [
    {
     "data": {
      "image/png": "[encoded data removed]",
      "text/plain": [
       "<Figure size 640x480 with 1 Axes>"
      ]
     },
     "metadata": {},
     "output_type": "display_data"
    }
   ],
   "source": [
    "def plot_embedding(data, label, title):\n",
    "    x_min, x_max = np.min(data, 0), np.max(data, 0)\n",
    "    data = (data - x_min) / (x_max - x_min)\n",
    "\n",
    "    fig = plt.figure()\n",
    "    for i in range(data.shape[0]):\n",
    "        if(int(label[i])<11):\n",
    "            plt.text(data[i, 0], data[i, 1], chr(ord('0')-1+int(label[i])),\n",
    "                 color=plt.cm.Set3(int(label[i])),\n",
    "                 fontdict={'weight': 'bold', 'size': 9})\n",
    "    plt.xticks([])\n",
    "    plt.yticks([])\n",
    "    plt.title(title)\n",
    "    return fig\n",
    "\n",
    "figure=plot_embedding(result,y,\"t-SNE plot\")\n",
    "plt.show(figure)\n"
   ]
  }
 ],
 "metadata": {
  "kernelspec": {
   "display_name": "d2l",
   "language": "python",
   "name": "python3"
  },
  "language_info": {
   "codemirror_mode": {
    "name": "ipython",
    "version": 3
   },
   "file_extension": ".py",
   "mimetype": "text/x-python",
   "name": "python",
   "nbconvert_exporter": "python",
   "pygments_lexer": "ipython3",
   "version": "3.9.16"
  },
  "orig_nbformat": 4
 },
 "nbformat": 4,
 "nbformat_minor": 2
}
